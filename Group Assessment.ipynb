{
 "cells": [
  {
   "cell_type": "markdown",
   "metadata": {},
   "source": [
    "# BUSA8031 Group Assessment\n",
    "**By Smriti Pradhananga 46188290**"
   ]
  },
  {
   "cell_type": "markdown",
   "metadata": {},
   "source": [
    "---\n",
    "\n",
    "## Background information on the task\n",
    "\n",
    "The NSW Public Service Commission collects data about the public sector workforce in the Workforce Profile, a census of the NSW public sector workforce.\n",
    "\n",
    "As an analyst, one of your responsibilities is to provide analysis of this data in different areas such as employment arrangements, age profile and diversity profile of the workforce to support policy development."
   ]
  },
  {
   "cell_type": "markdown",
   "metadata": {},
   "source": [
    "## Task\n",
    "You have been asked to prepare analysis on part-time employees to brief your Director prior to a meeting they are attending with the Workforce Diversity Steering Committee to review whether part-time employment arrangements are increasing.\n",
    "\n",
    "Please provide:\n",
    "\n",
    "- Trends over time in male and female employment, including any notable changes\n",
    "- The current representation of part time employees in the sector and in each Cluster\n",
    "- The current representation of male and female part time employees as a proportion of the respective male and the female workforce in the sector and in each cluster\n",
    "- Change in these two above statistics over the last 4 years\n",
    "- Projection of what the representation will be by 2025 if the current trends continue"
   ]
  },
  {
   "cell_type": "markdown",
   "metadata": {},
   "source": [
    "## Glossary\n",
    "\n",
    "**Sector or Public Sector**\tThe term for the collective Agencies/people who directly work for the NSW State Government\n",
    "\t\t\t\n",
    "**Cluster**\tA group of agencies that share a common function and report to a secretary\n",
    "\t\t\t\n",
    "**Headcount** The number of employees\n",
    "\n",
    "**pp** Percentage point\n",
    "\n",
    "---"
   ]
  },
  {
   "cell_type": "code",
   "execution_count": 1,
   "metadata": {},
   "outputs": [],
   "source": [
    "#importing libraries\n",
    "import numpy as np\n",
    "import pandas as pd\n",
    "import matplotlib.pyplot as plt\n",
    "import seaborn as sns\n",
    "\n",
    "#reading the excel file \n",
    "df = pd.read_excel('BBE Dataset.xlsx')"
   ]
  },
  {
   "cell_type": "code",
   "execution_count": 2,
   "metadata": {
    "scrolled": true
   },
   "outputs": [
    {
     "name": "stdout",
     "output_type": "stream",
     "text": [
      "<class 'pandas.core.frame.DataFrame'>\n",
      "RangeIndex: 606 entries, 0 to 605\n",
      "Data columns (total 16 columns):\n",
      " #   Column               Non-Null Count  Dtype  \n",
      "---  ------               --------------  -----  \n",
      " 0   ProductKey           606 non-null    int64  \n",
      " 1   ProductAlternateKey  606 non-null    object \n",
      " 2   ProductName          606 non-null    object \n",
      " 3   ProductSubcategory   397 non-null    object \n",
      " 4   ProductCategoryName  397 non-null    object \n",
      " 5   StandardCost         395 non-null    float64\n",
      " 6   Color                352 non-null    object \n",
      " 7   ListPrice            395 non-null    float64\n",
      " 8   Size                 299 non-null    object \n",
      " 9   SizeRange            299 non-null    object \n",
      " 10  Weight               282 non-null    float64\n",
      " 11  ProductLine          380 non-null    object \n",
      " 12  Class                330 non-null    object \n",
      " 13  Style                301 non-null    object \n",
      " 14  ModelName            397 non-null    object \n",
      " 15  Description          396 non-null    object \n",
      "dtypes: float64(3), int64(1), object(12)\n",
      "memory usage: 75.9+ KB\n"
     ]
    }
   ],
   "source": [
    "df.info()"
   ]
  },
  {
   "cell_type": "code",
   "execution_count": 3,
   "metadata": {},
   "outputs": [
    {
     "data": {
      "text/html": [
       "<div>\n",
       "<style scoped>\n",
       "    .dataframe tbody tr th:only-of-type {\n",
       "        vertical-align: middle;\n",
       "    }\n",
       "\n",
       "    .dataframe tbody tr th {\n",
       "        vertical-align: top;\n",
       "    }\n",
       "\n",
       "    .dataframe thead th {\n",
       "        text-align: right;\n",
       "    }\n",
       "</style>\n",
       "<table border=\"1\" class=\"dataframe\">\n",
       "  <thead>\n",
       "    <tr style=\"text-align: right;\">\n",
       "      <th></th>\n",
       "      <th>ProductKey</th>\n",
       "      <th>ProductAlternateKey</th>\n",
       "      <th>ProductName</th>\n",
       "      <th>ProductSubcategory</th>\n",
       "      <th>ProductCategoryName</th>\n",
       "      <th>StandardCost</th>\n",
       "      <th>Color</th>\n",
       "      <th>ListPrice</th>\n",
       "      <th>Size</th>\n",
       "      <th>SizeRange</th>\n",
       "      <th>Weight</th>\n",
       "      <th>ProductLine</th>\n",
       "      <th>Class</th>\n",
       "      <th>Style</th>\n",
       "      <th>ModelName</th>\n",
       "      <th>Description</th>\n",
       "    </tr>\n",
       "  </thead>\n",
       "  <tbody>\n",
       "    <tr>\n",
       "      <th>0</th>\n",
       "      <td>1</td>\n",
       "      <td>AR-5381</td>\n",
       "      <td>Adjustable Race</td>\n",
       "      <td>NaN</td>\n",
       "      <td>NaN</td>\n",
       "      <td>NaN</td>\n",
       "      <td>NaN</td>\n",
       "      <td>NaN</td>\n",
       "      <td>NaN</td>\n",
       "      <td>NaN</td>\n",
       "      <td>NaN</td>\n",
       "      <td>NaN</td>\n",
       "      <td>NaN</td>\n",
       "      <td>NaN</td>\n",
       "      <td>NaN</td>\n",
       "      <td>NaN</td>\n",
       "    </tr>\n",
       "    <tr>\n",
       "      <th>1</th>\n",
       "      <td>2</td>\n",
       "      <td>BA-8327</td>\n",
       "      <td>Bearing Ball</td>\n",
       "      <td>NaN</td>\n",
       "      <td>NaN</td>\n",
       "      <td>NaN</td>\n",
       "      <td>NaN</td>\n",
       "      <td>NaN</td>\n",
       "      <td>NaN</td>\n",
       "      <td>NaN</td>\n",
       "      <td>NaN</td>\n",
       "      <td>NaN</td>\n",
       "      <td>NaN</td>\n",
       "      <td>NaN</td>\n",
       "      <td>NaN</td>\n",
       "      <td>NaN</td>\n",
       "    </tr>\n",
       "    <tr>\n",
       "      <th>2</th>\n",
       "      <td>3</td>\n",
       "      <td>BE-2349</td>\n",
       "      <td>BB Ball Bearing</td>\n",
       "      <td>NaN</td>\n",
       "      <td>NaN</td>\n",
       "      <td>NaN</td>\n",
       "      <td>NaN</td>\n",
       "      <td>NaN</td>\n",
       "      <td>NaN</td>\n",
       "      <td>NaN</td>\n",
       "      <td>NaN</td>\n",
       "      <td>NaN</td>\n",
       "      <td>NaN</td>\n",
       "      <td>NaN</td>\n",
       "      <td>NaN</td>\n",
       "      <td>NaN</td>\n",
       "    </tr>\n",
       "    <tr>\n",
       "      <th>3</th>\n",
       "      <td>4</td>\n",
       "      <td>BE-2908</td>\n",
       "      <td>Headset Ball Bearings</td>\n",
       "      <td>NaN</td>\n",
       "      <td>NaN</td>\n",
       "      <td>NaN</td>\n",
       "      <td>NaN</td>\n",
       "      <td>NaN</td>\n",
       "      <td>NaN</td>\n",
       "      <td>NaN</td>\n",
       "      <td>NaN</td>\n",
       "      <td>NaN</td>\n",
       "      <td>NaN</td>\n",
       "      <td>NaN</td>\n",
       "      <td>NaN</td>\n",
       "      <td>NaN</td>\n",
       "    </tr>\n",
       "    <tr>\n",
       "      <th>4</th>\n",
       "      <td>5</td>\n",
       "      <td>BL-2036</td>\n",
       "      <td>Blade</td>\n",
       "      <td>NaN</td>\n",
       "      <td>NaN</td>\n",
       "      <td>NaN</td>\n",
       "      <td>NaN</td>\n",
       "      <td>NaN</td>\n",
       "      <td>NaN</td>\n",
       "      <td>NaN</td>\n",
       "      <td>NaN</td>\n",
       "      <td>NaN</td>\n",
       "      <td>NaN</td>\n",
       "      <td>NaN</td>\n",
       "      <td>NaN</td>\n",
       "      <td>NaN</td>\n",
       "    </tr>\n",
       "  </tbody>\n",
       "</table>\n",
       "</div>"
      ],
      "text/plain": [
       "   ProductKey ProductAlternateKey            ProductName ProductSubcategory  \\\n",
       "0           1             AR-5381        Adjustable Race                NaN   \n",
       "1           2             BA-8327           Bearing Ball                NaN   \n",
       "2           3             BE-2349        BB Ball Bearing                NaN   \n",
       "3           4             BE-2908  Headset Ball Bearings                NaN   \n",
       "4           5             BL-2036                  Blade                NaN   \n",
       "\n",
       "  ProductCategoryName  StandardCost Color  ListPrice Size SizeRange  Weight  \\\n",
       "0                 NaN           NaN   NaN        NaN  NaN       NaN     NaN   \n",
       "1                 NaN           NaN   NaN        NaN  NaN       NaN     NaN   \n",
       "2                 NaN           NaN   NaN        NaN  NaN       NaN     NaN   \n",
       "3                 NaN           NaN   NaN        NaN  NaN       NaN     NaN   \n",
       "4                 NaN           NaN   NaN        NaN  NaN       NaN     NaN   \n",
       "\n",
       "  ProductLine Class Style ModelName Description  \n",
       "0         NaN   NaN   NaN       NaN         NaN  \n",
       "1         NaN   NaN   NaN       NaN         NaN  \n",
       "2         NaN   NaN   NaN       NaN         NaN  \n",
       "3         NaN   NaN   NaN       NaN         NaN  \n",
       "4         NaN   NaN   NaN       NaN         NaN  "
      ]
     },
     "execution_count": 3,
     "metadata": {},
     "output_type": "execute_result"
    }
   ],
   "source": [
    "df.head()"
   ]
  },
  {
   "cell_type": "code",
   "execution_count": 5,
   "metadata": {},
   "outputs": [
    {
     "data": {
      "text/plain": [
       "3258"
      ]
     },
     "execution_count": 5,
     "metadata": {},
     "output_type": "execute_result"
    }
   ],
   "source": [
    "#checking for missing values\n",
    "df.isnull().sum().sum()  "
   ]
  },
  {
   "cell_type": "code",
   "execution_count": null,
   "metadata": {},
   "outputs": [],
   "source": []
  },
  {
   "cell_type": "markdown",
   "metadata": {},
   "source": [
    "---\n",
    "## Trends over time in male and female employment, including any notable changes"
   ]
  }
 ],
 "metadata": {
  "kernelspec": {
   "display_name": "Python 3",
   "language": "python",
   "name": "python3"
  },
  "language_info": {
   "codemirror_mode": {
    "name": "ipython",
    "version": 3
   },
   "file_extension": ".py",
   "mimetype": "text/x-python",
   "name": "python",
   "nbconvert_exporter": "python",
   "pygments_lexer": "ipython3",
   "version": "3.8.8"
  }
 },
 "nbformat": 4,
 "nbformat_minor": 4
}
